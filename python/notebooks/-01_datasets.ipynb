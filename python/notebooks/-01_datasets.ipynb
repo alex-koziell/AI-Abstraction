{
 "cells": [
  {
   "cell_type": "code",
   "execution_count": 5,
   "metadata": {},
   "outputs": [],
   "source": [
    "import os\n",
    "\n",
    "from pathlib import Path\n",
    "from typing import Any, Union\n",
    "PathOrStr = Union[Path,str]"
   ]
  },
  {
   "cell_type": "code",
   "execution_count": null,
   "metadata": {},
   "outputs": [],
   "source": [
    "class URLs():\n",
    "    \"\"\" Global constants for dataset and model URLs. \"\"\"\n",
    "    LOCAL_PATH = Path.cwd()\n",
    "    \n",
    "class Config():"
   ]
  },
  {
   "cell_type": "code",
   "execution_count": null,
   "metadata": {},
   "outputs": [],
   "source": [
    "def nonun(a: Any, b: Any) -> Any:\n",
    "    \" Returns a if a is not none, else b. \"\n",
    "    return b if a is None else a\n",
    "\n",
    "def name_from_url(url):\n",
    "    return url.split('/')[-1]\n",
    "\n",
    "def file_data_path(file_name: str, ext: str = '.tgz', archive = True):\n",
    "    \"\"\" Return data path to `file_name`, checking locally first\n",
    "        then in the config file.\"\"\"\n",
    "    \n",
    "    local_path = URLS.LOCAL_PATH/'data'/file_name\n",
    "    if local_path.exists() or local_path.with_suffix(ext).exists():\n",
    "        return local_path\n",
    "    else:\n",
    "        return Config.\n",
    "    \n",
    "\n",
    "def url_to_tgz(url, data=True, ext: str = '.tgz'):\n",
    "    if data:\n",
    "        return file_data_path(f'{name_from_url(url)}{ext}', ext=ext)\n",
    "    else:\n",
    "        return file_model_path(f'{name_from_url(url)}{ext}', ext=ext)\n",
    "    \n",
    "    \n",
    "def download_data(url: str, file_path: PathOrStr = None,\n",
    "                     data: bool = True, ext: str = '.tgz') -> Path:\n",
    "    \"\"\" Download `url` to destination `file_path`. \"\"\"\n",
    "    \n",
    "    file_path = Path(nonun(file_path, ))"
   ]
  }
 ],
 "metadata": {
  "kernelspec": {
   "display_name": "Python 3",
   "language": "python",
   "name": "python3"
  },
  "language_info": {
   "codemirror_mode": {
    "name": "ipython",
    "version": 3
   },
   "file_extension": ".py",
   "mimetype": "text/x-python",
   "name": "python",
   "nbconvert_exporter": "python",
   "pygments_lexer": "ipython3",
   "version": "3.8.3"
  }
 },
 "nbformat": 4,
 "nbformat_minor": 4
}
