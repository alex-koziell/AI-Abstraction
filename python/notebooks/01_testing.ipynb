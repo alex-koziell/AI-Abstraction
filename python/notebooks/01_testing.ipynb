{
 "cells": [
  {
   "cell_type": "markdown",
   "metadata": {},
   "source": [
    "# Little Testing Fuctions\n",
    "Always good practice to (be able to quickly and easily) test things as you go along."
   ]
  },
  {
   "cell_type": "code",
   "execution_count": 1,
   "metadata": {},
   "outputs": [],
   "source": [
    "#--export--#\n",
    "import operator\n",
    "from functools import partial\n",
    "import torch\n",
    "\n",
    "def assert_comparable(a, b, cmp, cname=None):\n",
    "    if cname is None: cname=cmp.__name__\n",
    "    assert cmp(a,b), f'{a} !{cname} {b}'\n",
    "    \n",
    "def test_equal(a, b): \n",
    "    try: \n",
    "        assert_comparable(a, b, operator.eq, '==')\n",
    "        print(f'Argument `{a}` IS equal to `{b}`.')\n",
    "    except:\n",
    "        print(f'Argument `{a}` IS NOT equal to `{b}`.')\n",
    "    \n",
    "def test_near_torch(a, b):\n",
    "    try:\n",
    "        assert_comparable(a, b, \n",
    "                          partial(torch.allclose, rtol=1e-3, atol=1e-5),\n",
    "                          \"torch.allclose\")\n",
    "        print(f'Arguments ARE near.')\n",
    "    except:\n",
    "        print(f'Arguments ARE NOT near.')"
   ]
  },
  {
   "cell_type": "code",
   "execution_count": 2,
   "metadata": {},
   "outputs": [
    {
     "name": "stdout",
     "output_type": "stream",
     "text": [
      "Argument `hello` IS NOT equal to `goodbye`.\n"
     ]
    }
   ],
   "source": [
    "test_equal(\"hello\", \"goodbye\")"
   ]
  },
  {
   "cell_type": "markdown",
   "metadata": {},
   "source": [
    "(`test_near_torch` is used in notebook 02)"
   ]
  },
  {
   "cell_type": "code",
   "execution_count": 3,
   "metadata": {},
   "outputs": [
    {
     "name": "stdout",
     "output_type": "stream",
     "text": [
      "Notebook 01_testing.ipynb has been converted to module ./exports/e_01_testing.py!\r\n"
     ]
    }
   ],
   "source": [
    "!python utils/export_notebook.py 01_testing.ipynb"
   ]
  },
  {
   "cell_type": "code",
   "execution_count": null,
   "metadata": {},
   "outputs": [],
   "source": []
  }
 ],
 "metadata": {
  "kernelspec": {
   "display_name": "Python 3",
   "language": "python",
   "name": "python3"
  },
  "language_info": {
   "codemirror_mode": {
    "name": "ipython",
    "version": 3
   },
   "file_extension": ".py",
   "mimetype": "text/x-python",
   "name": "python",
   "nbconvert_exporter": "python",
   "pygments_lexer": "ipython3",
   "version": "3.8.3"
  }
 },
 "nbformat": 4,
 "nbformat_minor": 4
}
