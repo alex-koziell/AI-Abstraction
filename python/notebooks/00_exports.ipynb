{
 "cells": [
  {
   "cell_type": "markdown",
   "metadata": {},
   "source": [
    "# Exporting Jupyter code to Python Modules\n",
    "Hacky development at it's finest"
   ]
  },
  {
   "cell_type": "code",
   "execution_count": 1,
   "metadata": {},
   "outputs": [
    {
     "name": "stdout",
     "output_type": "stream",
     "text": [
      "hello, exports!\n"
     ]
    }
   ],
   "source": [
    "#--export--#\n",
    "test = 'hello, exports!'\n",
    "print(test)\n",
    "\n",
    "def print_hello(name='exports'):\n",
    "    print(f'Hello {name}!')    "
   ]
  },
  {
   "cell_type": "code",
   "execution_count": 2,
   "metadata": {},
   "outputs": [
    {
     "name": "stdout",
     "output_type": "stream",
     "text": [
      "Notebook 00_exports.ipynb has been converted to module ./exports/e_00_exports.py!\r\n"
     ]
    }
   ],
   "source": [
    "!python utils/export_notebook.py 00_exports.ipynb"
   ]
  },
  {
   "cell_type": "code",
   "execution_count": 3,
   "metadata": {},
   "outputs": [
    {
     "name": "stdout",
     "output_type": "stream",
     "text": [
      "# module automatically generated from 00_exports.ipynb\n",
      "\n",
      "# to change this code, please edit the appropriate notebook and re-export, rather than editing this script directly\n",
      "\n",
      "\n",
      "\n",
      "test = 'hello, exports!'\n",
      "\n",
      "print(test)\n",
      "\n",
      "\n",
      "\n",
      "def print_hello(name='exports'):\n",
      "\n",
      "    print(f'Hello {name}!')    \n"
     ]
    }
   ],
   "source": [
    "with open('exports/e_00_exports.py') as ofile:\n",
    "    for line in ofile:\n",
    "        print(line)"
   ]
  },
  {
   "cell_type": "code",
   "execution_count": 4,
   "metadata": {},
   "outputs": [
    {
     "name": "stdout",
     "output_type": "stream",
     "text": [
      "hello, exports!\n",
      "Hello John Smith!\n"
     ]
    }
   ],
   "source": [
    "from exports.e_00_exports import print_hello\n",
    "\n",
    "print_hello('John Smith')"
   ]
  },
  {
   "cell_type": "code",
   "execution_count": null,
   "metadata": {},
   "outputs": [],
   "source": []
  }
 ],
 "metadata": {
  "kernelspec": {
   "display_name": "Python 3",
   "language": "python",
   "name": "python3"
  },
  "language_info": {
   "codemirror_mode": {
    "name": "ipython",
    "version": 3
   },
   "file_extension": ".py",
   "mimetype": "text/x-python",
   "name": "python",
   "nbconvert_exporter": "python",
   "pygments_lexer": "ipython3",
   "version": "3.8.3"
  }
 },
 "nbformat": 4,
 "nbformat_minor": 4
}
