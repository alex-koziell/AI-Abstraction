{
 "cells": [
  {
   "cell_type": "markdown",
   "metadata": {},
   "source": [
    "# Loading MNIST\n",
    "Using the fastai datasets module."
   ]
  },
  {
   "cell_type": "code",
   "execution_count": 1,
   "metadata": {},
   "outputs": [],
   "source": [
    "#--export--#\n",
    "from functools import partial\n",
    "import gzip\n",
    "import pickle\n",
    "\n",
    "from fastai import datasets\n",
    "from torch import tensor\n",
    "\n",
    "\n",
    "def loadMNIST():\n",
    "    MNIST_URL='http://deeplearning.net/data/mnist/mnist.pkl'\n",
    "    path = datasets.download_data(MNIST_URL, ext='.gz')\n",
    "\n",
    "    with gzip.open(path, 'rb') as file:\n",
    "        ((x_train, y_train), (x_valid, y_valid), _) = pickle.load(file,\n",
    "                                                        encoding='latin-1')\n",
    "\n",
    "    return map(partial(tensor, , (x_train, y_train, x_valid, y_valid))"
   ]
  },
  {
   "cell_type": "code",
   "execution_count": 2,
   "metadata": {},
   "outputs": [
    {
     "name": "stdout",
     "output_type": "stream",
     "text": [
      "Argument `50000` IS equal to `50000`.\n",
      "Argument `784` IS equal to `784`.\n",
      "Argument `0` IS equal to `0`.\n",
      "Argument `9` IS equal to `9`.\n"
     ]
    }
   ],
   "source": [
    "from exports.e_01_testing import test_equal\n",
    "\n",
    "x_train, y_train, x_valid, y_valid = loadMNIST()\n",
    "\n",
    "n_samples, n_output_channels = x_train.shape\n",
    "\n",
    "test_equal(n_samples, y_train.shape[0])\n",
    "test_equal(n_output_channels, 28*28)\n",
    "test_equal(y_train.min(), 0)\n",
    "test_equal(y_train.max(), 9)"
   ]
  },
  {
   "cell_type": "code",
   "execution_count": 3,
   "metadata": {},
   "outputs": [],
   "source": [
    "import matplotlib\n",
    "from matplotlib import pyplot as plt\n",
    "%matplotlib inline"
   ]
  },
  {
   "cell_type": "code",
   "execution_count": 4,
   "metadata": {},
   "outputs": [
    {
     "name": "stdout",
     "output_type": "stream",
     "text": [
      "torch.FloatTensor\n"
     ]
    },
    {
     "data": {
      "text/plain": [
       "<matplotlib.image.AxesImage at 0x7fd7fbdb0a60>"
      ]
     },
     "execution_count": 4,
     "metadata": {},
     "output_type": "execute_result"
    },
    {
     "data": {
      "image/png": "[encoded data removed]",
      "text/plain": [
       "<Figure size 432x288 with 1 Axes>"
      ]
     },
     "metadata": {
      "needs_background": "light"
     },
     "output_type": "display_data"
    }
   ],
   "source": [
    "matplotlib.rcParams['image.cmap'] = 'cool'\n",
    "img = x_train[0]\n",
    "print(img.view(28, 28).type())\n",
    "plt.imshow(img.view((28, 28)))"
   ]
  },
  {
   "cell_type": "markdown",
   "metadata": {},
   "source": [
    "# `test_near_torch`"
   ]
  },
  {
   "cell_type": "code",
   "execution_count": 8,
   "metadata": {},
   "outputs": [
    {
     "name": "stdout",
     "output_type": "stream",
     "text": [
      "torch.Size([5, 784]) torch.Size([784, 10])\n",
      "43.8 µs ± 6.36 µs per loop (mean ± std. dev. of 7 runs, 100 loops each)\n",
      "6.55 µs ± 644 ns per loop (mean ± std. dev. of 7 runs, 100 loops each)\n",
      "Arguments ARE near.\n"
     ]
    }
   ],
   "source": [
    "import torch\n",
    "from exports.e_01_testing import test_near_torch\n",
    "\n",
    "m1 = x_valid[:5]\n",
    "m2 = weights = torch.randn(784, 10)\n",
    "print(m1.shape, m2.shape)\n",
    "\n",
    "%timeit -n 100 torch.einsum('ik,kj->ij', m1, m2)\n",
    "%timeit -n 100 m1@m2\n",
    "\n",
    "t1, t2 = torch.einsum('ik,kj->ij', m1, m2), m1@m2\n",
    "\n",
    "test_near_torch(t1, t2)"
   ]
  },
  {
   "cell_type": "code",
   "execution_count": 5,
   "metadata": {},
   "outputs": [
    {
     "name": "stdout",
     "output_type": "stream",
     "text": [
      "Notebook 02_MNISTLoader.ipynb has been converted to module ./exports/e_02_MNISTLoader.py!\r\n"
     ]
    }
   ],
   "source": [
    "!python utils/export_notebook.py 02_MNISTLoader.ipynb"
   ]
  }
 ],
 "metadata": {
  "kernelspec": {
   "display_name": "Python 3",
   "language": "python",
   "name": "python3"
  },
  "language_info": {
   "codemirror_mode": {
    "name": "ipython",
    "version": 3
   },
   "file_extension": ".py",
   "mimetype": "text/x-python",
   "name": "python",
   "nbconvert_exporter": "python",
   "pygments_lexer": "ipython3",
   "version": "3.8.3"
  }
 },
 "nbformat": 4,
 "nbformat_minor": 4
}
