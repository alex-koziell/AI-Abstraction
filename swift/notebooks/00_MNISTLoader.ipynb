{
 "cells": [
  {
   "cell_type": "code",
   "execution_count": 1,
   "metadata": {},
   "outputs": [
    {
     "name": "stdout",
     "output_type": "stream",
     "text": [
      "Installing packages:\n",
      "\t.package(url: \"https://github.com/mxcl/Path.swift\", from: \"0.16.1\")\n",
      "\t\tPath\n",
      "\t.package(url: \"https://github.com/saeta/Just\", from: \"0.7.2\")\n",
      "\t\tJust\n",
      "\t.package(url: \"https://github.com/latenitesoft/NotebookExport\", from: \"0.5.0\")\n",
      "\t\tNotebookExport\n",
      "With SwiftPM flags: []\n",
      "Working in: /tmp/tmpij_08cge/swift-install\n",
      "Fetching https://github.com/saeta/Just\n",
      "Fetching https://github.com/latenitesoft/NotebookExport\n",
      "Fetching https://github.com/mxcl/Path.swift\n",
      "Cloning https://github.com/saeta/Just\n",
      "Resolving https://github.com/saeta/Just at 0.7.3\n",
      "Cloning https://github.com/mxcl/Path.swift\n",
      "Resolving https://github.com/mxcl/Path.swift at 0.16.3\n",
      "Cloning https://github.com/latenitesoft/NotebookExport\n",
      "Resolving https://github.com/latenitesoft/NotebookExport at 0.6.0\n",
      "[1/15] Compiling Path Path+StringConvertibles.swift\n",
      "[2/15] Compiling Path Path+Codable.swift\n",
      "[3/15] Compiling Path Path+FileManager.swift\n",
      "[4/15] Compiling Path Path+CommonDirectories.swift\n",
      "[5/15] Compiling Path Extensions.swift\n",
      "[6/15] Compiling Path Path+Attributes.swift\n",
      "[7/15] Compiling Path Path+ls.swift\n",
      "[8/15] Compiling Path Path->Bool.swift\n",
      "[9/15] Compiling Path Path.swift\n",
      "[10/16] Merging module Path\n",
      "[11/17] Wrapping AST for Path for debugging\n",
      "[12/20] Compiling NotebookExport DependencyDescription.swift\n",
      "[14/21] Compiling NotebookExport ExtensionUtils.swift\n",
      "[15/21] Merging module Just\n",
      "[16/21] Compiling NotebookExport PackageManifest.swift\n",
      "[17/21] Wrapping AST for Just for debugging\n",
      "[18/21] Compiling NotebookExport NotebookExport.swift\n",
      "[19/22] Merging module NotebookExport\n",
      "[20/23] Wrapping AST for NotebookExport for debugging\n",
      "[21/23] Compiling jupyterInstalledPackages jupyterInstalledPackages.swift\n",
      "[22/24] Merging module jupyterInstalledPackages\n",
      "[23/24] Wrapping AST for jupyterInstalledPackages for debugging\n",
      "[24/24] Linking libjupyterInstalledPackages.so\n",
      "Initializing Swift...\n",
      "Installation complete!\n"
     ]
    }
   ],
   "source": [
    "%install-location $cwd/installed-packages\n",
    "%install '.package(url: \"https://github.com/mxcl/Path.swift\", from: \"0.16.1\")' Path\n",
    "%install '.package(url: \"https://github.com/saeta/Just\", from: \"0.7.2\")' Just\n",
    "%install '.package(url: \"https://github.com/latenitesoft/NotebookExport\", from: \"0.5.0\")' NotebookExport"
   ]
  },
  {
   "cell_type": "markdown",
   "metadata": {},
   "source": [
    "# Getting the MNIST Dataset"
   ]
  },
  {
   "cell_type": "code",
   "execution_count": 2,
   "metadata": {},
   "outputs": [],
   "source": [
    "//export\n",
    "import Foundation\n",
    "import Just\n",
    "import Path\n",
    "import TensorFlow"
   ]
  },
  {
   "cell_type": "code",
   "execution_count": 3,
   "metadata": {},
   "outputs": [],
   "source": [
    "//export\n",
    "\n",
    "// Using the Process class, your program can run another program as a subprocess\n",
    "// and can monitor that program’s execution.\n",
    "\n",
    "// Pipe objects provide an object-oriented interface for accessing pipes.\n",
    "// A Pipe object represents both ends of a pipe and enables communication through the pipe.\n",
    "\n",
    "public extension String {\n",
    "    @discardableResult\n",
    "    func shell(_ args: String...) -> String\n",
    "    {\n",
    "        let (task, pipe) = (Process(), Pipe())\n",
    "        task.executableURL = URL(fileURLWithPath: self)\n",
    "        (task.arguments, task.standardOutput) = (args, pipe)\n",
    "        do { try task.run() }\n",
    "        catch { print(\"Unexpected error: \\(error).\") }\n",
    "        \n",
    "        let data = pipe.fileHandleForReading.readDataToEndOfFile()\n",
    "        return String(data: data, encoding: String.Encoding.utf8) ?? \"\"\n",
    "    }\n",
    "}"
   ]
  },
  {
   "cell_type": "code",
   "execution_count": 4,
   "metadata": {},
   "outputs": [
    {
     "name": "stdout",
     "output_type": "stream",
     "text": [
      "total 36K\r\n",
      "-rw-r--r-- 1 alex alex  11K Jun 29 17:55 00_MNISTLoader.ipynb\r\n",
      "drwxr-xr-x 2 alex alex 4.0K Jun 29 17:54 data\r\n",
      "drwxr-xr-x 3 alex alex 4.0K Jun 29 17:50 exports\r\n",
      "-rw-r--r-- 1 alex alex   23 Jun 29 17:21 hello.swift\r\n",
      "drwxr-xr-x 4 alex alex 4.0K Jun 29 17:58 installed-packages\r\n",
      "-rw-r--r-- 1 alex alex 4.5K Jun 29 17:57 Untitled.ipynb\r\n",
      "\r\n"
     ]
    }
   ],
   "source": [
    "print(\"/bin/ls\".shell(\"-lh\"))"
   ]
  },
  {
   "cell_type": "markdown",
   "metadata": {},
   "source": [
    "The following code uses the Just library, https://github.com/saeta/Just."
   ]
  },
  {
   "cell_type": "code",
   "execution_count": 5,
   "metadata": {},
   "outputs": [],
   "source": [
    "//export\n",
    "public func downloadFile(_ url: String, dest: String? = nil, force: Bool = false) {\n",
    "    let destName = dest ??\n",
    "                  (Path.cwd/\"data\"/url.split(separator: \"/\").last!).string\n",
    "    \n",
    "    let urlDest = URL(\n",
    "        fileURLWithPath:\n",
    "        (dest ?? \n",
    "        (Path.cwd/url.split(separator: \"/\").last!).string)\n",
    "    )\n",
    "    \n",
    "    if !force && Path(destName)!.exists { return }\n",
    "\n",
    "    print(\"Downloading \\(url)...\")\n",
    "\n",
    "    if let cts = Just.get(url).content {\n",
    "        do    { try cts.write(to: URL(fileURLWithPath:destName)) }\n",
    "        catch { print(\"Can't write to \\(urlDest).\\n\\(error)\") }\n",
    "    } else {\n",
    "        print(\"Can't reach \\(url)\")\n",
    "    }\n",
    "    \n",
    "    print(\"Done!\")\n",
    "}"
   ]
  },
  {
   "cell_type": "code",
   "execution_count": 6,
   "metadata": {},
   "outputs": [],
   "source": [
    "downloadFile(\"https://storage.googleapis.com/cvdf-datasets/mnist/train-images-idx3-ubyte.gz\")"
   ]
  },
  {
   "cell_type": "code",
   "execution_count": 7,
   "metadata": {},
   "outputs": [],
   "source": [
    "//export\n",
    "protocol ConvertibleFromByte: TensorFlowScalar {\n",
    "    init(_ d: UInt8)\n",
    "}\n",
    "\n",
    "extension Float : ConvertibleFromByte {}\n",
    "extension Int32 : ConvertibleFromByte {}\n",
    "\n",
    "extension Data {\n",
    "    func asTensor<T: ConvertibleFromByte>() -> Tensor<T> {\n",
    "        return Tensor(map(T.init))\n",
    "    }\n",
    "}\n",
    "\n",
    "func loadMNIST<T: ConvertibleFromByte>\n",
    "        (training: Bool, labels: Bool, path: Path, flat: Bool) -> Tensor<T> {\n",
    "    let split = training ? \"train\" : \"t10k\"\n",
    "    let kind = labels ? \"labels\" : \"images\"\n",
    "    let batch = training ? 60000 : 10000\n",
    "    let shape: TensorShape = labels ? [batch] : (flat ? [batch, 784] : [batch, 28, 28])\n",
    "    let dropK = labels ? 8 : 16\n",
    "    let baseUrl = \"https://storage.googleapis.com/cvdf-datasets/mnist/\"\n",
    "    let fname = split + \"-\" + kind + \"-idx\\(labels ? 1 : 3)-ubyte\"\n",
    "    let file = path/fname\n",
    "    if !file.exists {\n",
    "        downloadFile(\"\\(baseUrl)\\(fname).gz\", dest:(path/\"\\(fname).gz\").string)\n",
    "        \"/bin/gunzip\".shell(\"-fq\", (path/\"\\(fname).gz\").string)\n",
    "    }\n",
    "    let data = try! Data(contentsOf: URL(fileURLWithPath: file.string)).dropFirst(dropK)\n",
    "    if labels { return data.asTensor() }\n",
    "    else      { return data.asTensor().reshaped(to: shape) }\n",
    "}\n",
    "\n",
    "public func loadMNIST(path: Path, flat: Bool = false) \n",
    "        -> (Tensor<Float>, Tensor<Int32>, Tensor<Float>, Tensor<Int32>) {\n",
    "    // (data, labels, data, labels)\n",
    "    return (\n",
    "        loadMNIST(training: true,  labels: false, path: path, flat: flat) / 255.0,\n",
    "        loadMNIST(training: true,  labels: true,  path: path, flat: flat),\n",
    "        loadMNIST(training: false, labels: false, path: path, flat: flat) / 255.0,\n",
    "        loadMNIST(training: false, labels: true,  path: path, flat: flat)\n",
    "    )\n",
    "}\n",
    "\n",
    "public let MNISTPath = Path.cwd/\"data\""
   ]
  },
  {
   "cell_type": "code",
   "execution_count": 8,
   "metadata": {
    "scrolled": true
   },
   "outputs": [
    {
     "data": {
      "text/plain": [
       "▿ [60000, 28, 28]\n",
       "  ▿ dimensions : 3 elements\n",
       "    - 0 : 60000\n",
       "    - 1 : 28\n",
       "    - 2 : 28\n"
      ]
     },
     "execution_count": 8,
     "metadata": {},
     "output_type": "execute_result"
    }
   ],
   "source": [
    "let (xTrain, yTrain, xValid, yValid) = loadMNIST(path: MNISTPath)\n",
    "xTrain.shape"
   ]
  },
  {
   "cell_type": "code",
   "execution_count": 9,
   "metadata": {},
   "outputs": [
    {
     "data": {
      "text/plain": [
       "▿ [60000, 784]\n",
       "  ▿ dimensions : 2 elements\n",
       "    - 0 : 60000\n",
       "    - 1 : 784\n"
      ]
     },
     "execution_count": 9,
     "metadata": {},
     "output_type": "execute_result"
    }
   ],
   "source": [
    "let (xTrain, yTrain, xValid, yValid) = loadMNIST(path: MNISTPath, flat: true)\n",
    "xTrain.shape"
   ]
  },
  {
   "cell_type": "code",
   "execution_count": 11,
   "metadata": {},
   "outputs": [
    {
     "name": "stdout",
     "output_type": "stream",
     "text": [
      "success\r\n"
     ]
    }
   ],
   "source": [
    "import NotebookExport\n",
    "let exporter = NotebookExport(Path.cwd/\"00_MNISTLoader.ipynb\")\n",
    "print(exporter.export(usingPrefix: \"exports/e_\"))"
   ]
  },
  {
   "cell_type": "code",
   "execution_count": null,
   "metadata": {},
   "outputs": [],
   "source": []
  }
 ],
 "metadata": {
  "kernelspec": {
   "display_name": "Swift",
   "language": "swift",
   "name": "swift"
  },
  "language_info": {
   "file_extension": ".swift",
   "mimetype": "text/x-swift",
   "name": "swift",
   "version": ""
  }
 },
 "nbformat": 4,
 "nbformat_minor": 4
}
