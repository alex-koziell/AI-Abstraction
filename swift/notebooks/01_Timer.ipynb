{
 "cells": [
  {
   "cell_type": "code",
   "execution_count": 1,
   "metadata": {},
   "outputs": [
    {
     "name": "stdout",
     "output_type": "stream",
     "text": [
      "Installing packages:\n",
      "\t.package(path: \"/home/alex/Desktop/ML/AI-Abstraction/swift/notebooks/exports/e_00_MNISTLoader\")\n",
      "\t\te_00_MNISTLoader\n",
      "With SwiftPM flags: []\n",
      "Working in: /tmp/tmp5os9rzan/swift-install\n",
      "Updating https://github.com/saeta/Just\n",
      "Updating https://github.com/latenitesoft/NotebookExport\n",
      "Updating https://github.com/mxcl/Path.swift\n",
      "[1/4] Compiling e_00_MNISTLoader 00_MNISTLoader.swift\n",
      "[2/5] Merging module e_00_MNISTLoader\n",
      "[3/6] Wrapping AST for e_00_MNISTLoader for debugging\n",
      "[4/6] Compiling jupyterInstalledPackages jupyterInstalledPackages.swift\n",
      "[5/7] Merging module jupyterInstalledPackages\n",
      "[6/6] Linking libjupyterInstalledPackages.so\n",
      "Initializing Swift...\n",
      "Installation complete!\n"
     ]
    }
   ],
   "source": [
    "%install-location $cwd/installed-packages\n",
    "%install '.package(path: \"$cwd/exports/e_00_MNISTLoader\")' e_00_MNISTLoader"
   ]
  },
  {
   "cell_type": "code",
   "execution_count": 2,
   "metadata": {},
   "outputs": [],
   "source": [
    "//export \n",
    "import Dispatch\n",
    "\n",
    "public func time(repetitions: Int = 1, _ f: () -> ()) {\n",
    "    guard repetitions > 0 else { \n",
    "        print(\"`repetitions` must be a positive integer!\")\n",
    "        return \n",
    "    }\n",
    "    \n",
    "    // Warmup\n",
    "    if repetitions > 1 { f() }\n",
    "    \n",
    "    var times = [Double]()\n",
    "    for _ in 1...repetitions {\n",
    "        let start = DispatchTime.now()\n",
    "        f()\n",
    "        let end = DispatchTime.now()\n",
    "        let nanoseconds = Double(end.uptimeNanoseconds - start.uptimeNanoseconds)\n",
    "        let milliseconds = nanoseconds / 1e6\n",
    "        times.append(milliseconds)\n",
    "    }\n",
    "    print(\"average: \\(times.reduce(0.0, +)/Double(times.count)) ms,   \" +\n",
    "          \"min: \\(times.reduce(times[0], min)) ms,   \" +\n",
    "          \"max: \\(times.reduce(times[0], max)) ms\")\n",
    "}"
   ]
  },
  {
   "cell_type": "code",
   "execution_count": 6,
   "metadata": {},
   "outputs": [],
   "source": [
    "import e_00_MNISTLoader\n",
    "import TensorFlow"
   ]
  },
  {
   "cell_type": "code",
   "execution_count": 10,
   "metadata": {},
   "outputs": [
    {
     "name": "stdout",
     "output_type": "stream",
     "text": [
      "average: 27419.577189 ms,   min: 27419.577189 ms,   max: 27419.577189 ms\r\n"
     ]
    }
   ],
   "source": [
    "time() {\n",
    "    _ = loadMNIST(path: MNISTPath, flat: false)\n",
    "}"
   ]
  },
  {
   "cell_type": "code",
   "execution_count": 12,
   "metadata": {},
   "outputs": [
    {
     "name": "stdout",
     "output_type": "stream",
     "text": [
      "success\r\n"
     ]
    }
   ],
   "source": [
    "import Path\n",
    "import NotebookExport\n",
    "let exporter = NotebookExport(Path.cwd/\"01_Timer.ipynb\")\n",
    "print(exporter.export(usingPrefix: \"exports/e_\"))"
   ]
  },
  {
   "cell_type": "code",
   "execution_count": null,
   "metadata": {},
   "outputs": [],
   "source": []
  }
 ],
 "metadata": {
  "kernelspec": {
   "display_name": "Swift",
   "language": "swift",
   "name": "swift"
  },
  "language_info": {
   "file_extension": ".swift",
   "mimetype": "text/x-swift",
   "name": "swift",
   "version": ""
  }
 },
 "nbformat": 4,
 "nbformat_minor": 4
}
